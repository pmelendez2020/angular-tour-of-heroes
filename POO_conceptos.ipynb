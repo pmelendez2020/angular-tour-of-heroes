{
  "nbformat": 4,
  "nbformat_minor": 0,
  "metadata": {
    "colab": {
      "name": "POO_conceptos.ipynb",
      "provenance": [],
      "include_colab_link": true
    },
    "kernelspec": {
      "name": "python3",
      "display_name": "Python 3"
    }
  },
  "cells": [
    {
      "cell_type": "markdown",
      "metadata": {
        "id": "view-in-github",
        "colab_type": "text"
      },
      "source": [
        "<a href=\"https://colab.research.google.com/github/pmelendez2020/angular-tour-of-heroes/blob/master/POO_conceptos.ipynb\" target=\"_parent\"><img src=\"https://colab.research.google.com/assets/colab-badge.svg\" alt=\"Open In Colab\"/></a>"
      ]
    },
    {
      "cell_type": "markdown",
      "metadata": {
        "id": "oggkzESNqvxB"
      },
      "source": [
        "# **Conceptos de programación orientada a objetos**"
      ]
    },
    {
      "cell_type": "markdown",
      "metadata": {
        "id": "FLueyZWMq8N4"
      },
      "source": [
        "Python nos permite utilizar distintas metodologías de programación. Hemos implementado inicialmente programas utilizando la programación lineal, luego vimos funciones y trabajamos con programación estructurada.\n",
        "\n",
        "Ahora introduciremos los conceptos de programación orientada a objetos. A partir de este concepto mostraremos en forma sencilla la metodología de Programación Orientada a Objetos.\n",
        "\n",
        "Se irán introduciendo conceptos de objeto, clase, atributo, método etc. y de todos estos temas se irán planteando problemas resueltos.\n",
        "\n",
        "Prácticamente todos los lenguajes desarrollados en los últimos 25 años implementan la posibilidad de trabajar con POO (Programación Orientada a Objetos)\n",
        "\n",
        "El lenguaje Python tiene la característica de permitir programar con las siguientes metodologías:\n",
        "\n",
        "Programación Lineal: Es cuando desarrollamos todo el código sin emplear funciones. El código es una secuencia lineal de comando.\n",
        "\n",
        "Programación Estructurada: Es cuando planteamos funciones que agrupan actividades a desarrollar y luego dentro del programa llamamos a dichas funciones que pueden estar dentro del mismo archivo (módulo) o en una librería separada.\n",
        "\n",
        "Programación Orientada a Objetos: Es cuando planteamos clases y definimos objetos de las mismas (Este es el objetivo de los próximos conceptos, aprender la metodología de programación orientada a objetos y la sintaxis particular de Python para la POO)\n",
        "\n",
        "**Conceptos básicos de Objetos**\n",
        "\n",
        "Un objeto es una entidad independiente con sus propios datos y programación. Las ventanas, menúes, carpetas de archivos pueden ser identificados como objetos; el motor de un auto también es considerado un objeto, en este caso, sus datos (atributos) describen sus características físicas y su programación (métodos) describen el funcionamiento interno y su interrelación con otras partes del automóvil (también objetos).\n",
        "\n",
        "El concepto renovador de la tecnología de Orientación a Objetos es la suma de funciones a elementos de datos, a esta unión se le llama encapsulamiento.\n",
        "Por ejemplo, un objeto Auto contiene ruedas, motor, velocidad, color, etc, llamados atributos. Encapsulados con estos datos se encuentran los métodos para arrancar, detenerse, dobla, frenar etc.\n",
        "\n",
        "La responsabilidad de un objeto auto consiste en realizar las acciones apropiadas y mantener actualizados sus datos internos.\n",
        "\n",
        "Cuando otra parte del programa (otros objetos) necesitan que el auto realice alguna de estas tareas (por ejemplo, arrancar) le envía un mensaje. A estos objetos que envían mensajes no les interesa la manera en que el objeto auto lleva a cabo sus tareas ni las estructuras de datos que maneja, por ello, están ocultos.\n",
        "\n",
        "Entonces, un objeto contiene información pública, lo que necesitan los otros objetos para interactuar con él e información privada, interna, lo que necesita el objeto para operar y que es irrelevante para los otros objetos de la aplicación."
      ]
    },
    {
      "cell_type": "markdown",
      "metadata": {
        "id": "GLoRGu_dr0zU"
      },
      "source": [
        "**Declaración de una clase y creación de objetos**\n",
        "\n",
        "La programación orientada a objetos se basa en la definición de clases; a diferencia de la programación estructurada, que está centrada en las funciones.\n",
        "\n",
        "Una clase es un molde del que luego se pueden crear múltiples objetos, con similares características.\n",
        "\n",
        "Un poco más abajo se define una clase Persona y luego se crean dos objetos de dicha clase.\n",
        "\n",
        "Una clase es una plantilla (molde), que define atributos (lo que conocemos como variables) y métodos (lo que conocemos como funciones).\n",
        "\n",
        "La clase define los atributos y métodos comunes a los objetos de ese tipo, pero luego, cada objeto tendrá sus propios valores y compartirán las mismas funciones.\n",
        "\n",
        "Debemos declarar una clase antes de poder crear objetos (instancias) de esa clase. Al crear un objeto de una clase, se dice que se crea una instancia de la clase o un objeto propiamente dicho."
      ]
    },
    {
      "cell_type": "markdown",
      "metadata": {
        "id": "K5kS1UcRsF04"
      },
      "source": [
        "**Problema 1:**\n",
        "\n",
        "Implementaremos una clase llamada Persona que tendrá como atributo (variable) su nombre y dos métodos (funciones), uno de dichos métodos inicializará el atributo nombre y el siguiente método mostrará en la pantalla el contenido del mismo.\n",
        "\n",
        "Definir dos objetos de la clase Persona."
      ]
    },
    {
      "cell_type": "code",
      "metadata": {
        "id": "Kb1Vg07_sRRF"
      },
      "source": [
        "class Persona:\n",
        "\n",
        "    def inicializar(self,nom):\n",
        "        self.nombre = nom\n",
        "\n",
        "    def imprimir(self):\n",
        "        print(\"Nombre \",self.nombre)\n",
        "\n",
        "\n",
        "# bloque principal\n",
        "\n",
        "persona1 = Persona()\n",
        "persona1.inicializar(\"Pedro\")\n",
        "persona1.imprimir()\n",
        "\n",
        "persona2 = Persona()\n",
        "persona2.inicializar(\"Carla\")\n",
        "persona2.imprimir()"
      ],
      "execution_count": null,
      "outputs": []
    },
    {
      "cell_type": "markdown",
      "metadata": {
        "id": "IptMCUYaslDN"
      },
      "source": [
        "Siempre conviene buscar un nombre de clase lo más próximo a lo que representa. La palabra clave para declarar la clase es class, seguido del nombre de la clase y luego dos puntos.\n",
        "\n",
        "Los métodos de una clase se definen utilizando la misma sintaxis que para la definición de funciones.\n",
        "\n",
        "Como veremos todo método tiene como primer parámetro el identificador self que tiene la referencia del objeto que llamó al método.\n",
        "\n",
        "Luego dentro del método diferenciamos los atributos del objeto antecediendo el identificador self:\n",
        "\n",
        "`self.nombre=nom`\n",
        "\n",
        "Con la asignación previa almacenamos en el atributo nombre el parámetro nom, los atributos siguen existiendo cuando finaliza la ejecución del método. Por ello cuando se ejecuta el método imprimir podemos mostrar el nombre que cargamos en el primer método.\n",
        "\n",
        "Decíamos que una clase es un molde que nos permite definir objetos. Ahora veamos cual es la sintaxis para la creación de objetos de la clase Persona."
      ]
    },
    {
      "cell_type": "markdown",
      "metadata": {
        "id": "Mh3dzTAmtcil"
      },
      "source": [
        "**Problema 2:**\n",
        "\n",
        "Implementar una clase llamada Alumno que tenga como atributos su nombre y su nota. Definir los métodos para inicializar sus atributos, imprimirlos y mostrar un mensaje \"Aprobado\" (nota mayor o igual a 4), sino el mensaje \"No aprobado\"\n",
        "\n",
        "Definir dos objetos de la clase Alumno."
      ]
    },
    {
      "cell_type": "code",
      "metadata": {
        "id": "JwZpiC-jtt0X"
      },
      "source": [
        "class Alumno:\n",
        "\n",
        "    def inicializar(self, nombre, nota):\n",
        "        self.nombre = nombre\n",
        "        self.nota = nota\n",
        "\n",
        "    def imprimir(self):\n",
        "        print(\"Nombre: \",self.nombre)\n",
        "        print(\"Nota: \",self.nota)\n",
        "\n",
        "    def mostrar_estado(self):\n",
        "        if self.nota >= 4:\n",
        "            print(\"Aprobado\")\n",
        "        else:\n",
        "            print(\"No Aprobado\")\n",
        "\n",
        "\n",
        "# bloque principal\n",
        "\n",
        "alumno1 = Alumno()\n",
        "alumno1.inicializar(\"Diego\", 2)\n",
        "alumno1.imprimir()\n",
        "alumno1.mostrar_estado()\n",
        "\n",
        "alumno2 = Alumno()\n",
        "newnombre = input(\"Digite nombre del alumno: \")\n",
        "newnota = float(input(\"Digite la nota: \"))\n",
        "alumno2.inicializar(newnombre,newnota)\n",
        "alumno2.imprimir()\n",
        "alumno2.mostrar_estado()"
      ],
      "execution_count": null,
      "outputs": []
    },
    {
      "cell_type": "markdown",
      "metadata": {
        "id": "lDDhE1abt9hJ"
      },
      "source": [
        "**Problemas propuestos**\n",
        "\n",
        "1. Confeccionar una clase que permita carga el nombre y la edad de una persona. Mostrar los datos cargados. Imprimir un mensaje si es mayor de edad (edad>=18)\n",
        "\n",
        "2. Desarrollar un programa que cargue los lados de un triángulo e implemente los siguientes métodos: inicializar los atributos, imprimir el valor del lado mayor y otro método que muestre si es equilátero o no. El nombre de la clase llamarla Triangulo.\n"
      ]
    },
    {
      "cell_type": "code",
      "metadata": {
        "id": "DEGsi8Tuk6IE"
      },
      "source": [
        "class Persona:     \n",
        "     def cargar(self, nombre, edad):\n",
        "       self.nombre = nombre\n",
        "       self.edad = edad\n",
        "\n",
        "     def imprimir(self):\n",
        "         print(\"Nombre: \", self.nombre)\n",
        "         print(\"Edad: \", self.edad)\n",
        "\n",
        "     def esmayor(self):\n",
        "         if self.edad >= 18:\n",
        "           print(\"ES MAYOR DE EDAD\")\n",
        "         else:\n",
        "           print(\"No es mayor de edad\");\n",
        "\n",
        "persona1 = Persona()\n",
        "persona1.cargar(\"juan\",10)\n",
        "persona1.imprimir() \n",
        "persona1.esmayor()"
      ],
      "execution_count": null,
      "outputs": []
    },
    {
      "cell_type": "code",
      "metadata": {
        "id": "s8OIdRvXmmDo"
      },
      "source": [
        "class triangulo:\n",
        "\n",
        "  def inicio (self, lado_a, lado_b, lado_c):\n",
        "      self.lado_a = lado_a\n",
        "      self.lado_b = lado_b\n",
        "      self.lado_c = lado_c\n",
        "\n",
        "  def imprimir (self):\n",
        "    print(\"su lado a es: \", self.lado_a)\n",
        "    print(\"su lado b es: \", self.lado_b)\n",
        "    print(\"su lado c es: \", self.lado_c)\n",
        "\n",
        "  def lado_mayor (self):\n",
        "      if self.lado_a > self.lado_b and self.lado_a > self.lado_c:\n",
        "       mayor = self.lado_a\n",
        "      else:\n",
        "       if self.lado_b > self.lado_a and self.lado_b > self.lado_c:\n",
        "         mayor = self.lado_b\n",
        "       else:\n",
        "         mayor = self.lado_c\n",
        "      return mayor\n",
        "\n",
        "  def equilatero (self):\n",
        "      if self.lado_a == self.lado_b and self.lado_a == self.lado_c:\n",
        "       equilatero = True\n",
        "      else:\n",
        "       equilatero = False\n",
        "      return equilatero\n",
        "\n",
        "triangulo1 = triangulo() \n",
        "triangulo1.inicio(15,19,15)\n",
        "triangulo1.imprimir()\n",
        "print(\"el lado mayor es \", triangulo1.lado_mayor())\n",
        "if (triangulo1.equilatero()):\n",
        "  print(\"El triangulo es equilatero\")\n",
        "else:\n",
        "  print(\"El triangulo NO es equilatero\")\n"
      ],
      "execution_count": null,
      "outputs": []
    },
    {
      "cell_type": "markdown",
      "metadata": {
        "id": "a1ZGIQ6cvk3q"
      },
      "source": [
        "**Método __init__ de la clase**\n",
        "\n",
        "El método __init__ es un método especial de una clase en Python. El objetivo fundamental del método __init__ es inicializar los atributos del objeto que creamos.\n",
        "\n",
        "Básicamente el método __init__ remplaza al método inicializar que habíamos hecho en el concepto anterior.\n",
        "\n",
        "Las ventajas de implementar el método __init__ en lugar del método inicializar son:\n",
        "\n",
        "El método __init__ es el primer método que se ejecuta cuando se crea un objeto.\n",
        "\n",
        "El método __init__ se llama automáticamente. Es decir es imposible de olvidarse de llamarlo ya que se llamará automáticamente.\n",
        "\n",
        "Quien utiliza POO en Python (Programación Orientada a Objetos) conoce el objetivo de este método.\n",
        "\n",
        "Otras características del método __init__ son:\n",
        "\n",
        "Se ejecuta inmediatamente luego de crear un objeto.\n",
        "\n",
        "El método __init__ no puede retornar dato.\n",
        "\n",
        "el método __init__ puede recibir parámetros que se utilizan normalmente para inicializar atributos.\n",
        "\n",
        "El método __init__ es un método opcional, de todos modos es muy común declararlo.\n",
        "\n",
        "Veamos la sintaxis del constructor:\n",
        "\n",
        "`def __init__([parámetros]): `\n",
        "\n",
        "   `[algoritmo]`\n",
        "\n",
        "Debemos definir un método llamado __init__ (es decir utilizamos dos caracteres de subrayado, la palabra init y seguidamente otros dos caracteres de subrayado).\n",
        "\n",
        "**Problema 3:**\n",
        "\n",
        "Confeccionar una clase que represente un empleado. Definir como atributos su nombre y su sueldo. En el método __init__ cargar los atributos por teclado y luego en otro método imprimir sus datos y por último uno que imprima un mensaje si debe pagar impuestos (si el sueldo supera a 3000)\n",
        "\n",
        "\n",
        "\n",
        "\n"
      ]
    },
    {
      "cell_type": "code",
      "metadata": {
        "id": "htak4feCuj3z"
      },
      "source": [
        "class Triangulo:\n",
        "  def __init__ (self, a, b, c):\n",
        "      self.lado_a = a\n",
        "      self.lado_b = b\n",
        "      self.lado_c = c\n",
        "\n",
        "  def imprimir (self):\n",
        "    print(\"su lado a es: \", self.lado_a)\n",
        "    print(\"su lado b es: \", self.lado_b)\n",
        "    print(\"su lado c es: \", self.lado_c)\n",
        "\n",
        "\n",
        "triangulo1 = Triangulo(4,5,6)\n",
        "triangulo1.imprimir()\n",
        "\n"
      ],
      "execution_count": null,
      "outputs": []
    },
    {
      "cell_type": "code",
      "metadata": {
        "id": "CWSVIIOTwavV"
      },
      "source": [
        "class Empleado:\n",
        "\n",
        "    def __init__(self):\n",
        "        self.nombre = input(\"Ingrese el nombre del empleado: \")\n",
        "        self.sueldo = float(input(\"Ingrese el sueldo:\"))\n",
        "\n",
        "    def imprimir(self):\n",
        "        print(\"Nombre: \", self.nombre)\n",
        "        print(\"Sueldo: \", self.sueldo)\n",
        "\n",
        "    def paga_impuestos(self):\n",
        "        if self.sueldo > 3000:\n",
        "            print(\"Debe pagar impuestos\")\n",
        "        else:\n",
        "            print(\"No paga impuestos\")\n",
        "\n",
        "\n",
        "# bloque principal\n",
        "\n",
        "empleado1=Empleado()\n",
        "empleado1.imprimir()\n",
        "empleado1.paga_impuestos()"
      ],
      "execution_count": null,
      "outputs": []
    },
    {
      "cell_type": "markdown",
      "metadata": {
        "id": "U3YFpu1Owok-"
      },
      "source": [
        "**Problema 4:**\n",
        "\n",
        "Desarrollar una clase que represente un punto en el plano y tenga los siguientes métodos: inicializar los valores de x e y que llegan como parámetros, imprimir en que cuadrante se encuentra dicho punto (concepto matemático, primer cuadrante si x e y son positivas, si x<0 e y>0 segundo cuadrante, etc.)\n",
        "\n"
      ]
    },
    {
      "cell_type": "code",
      "metadata": {
        "id": "wiK5SRsb2m2n",
        "outputId": "3fae5d94-1a10-4484-e1d3-328b20efccb7",
        "colab": {
          "base_uri": "https://localhost:8080/",
          "height": 73
        }
      },
      "source": [
        "class Punto:\n",
        "    def __init__(self, x, y):\n",
        "        self.x = x\n",
        "        self.y = y\n",
        "    \n",
        "    def imprimir(self):\n",
        "      print(\"Coordenada del punto\")\n",
        "      print(\"(\",self.x,\" , \", self.y,\")\")\n",
        "\n",
        "    def imprimir_cuadrante(self):\n",
        "      if (self.x > 0 and self.y > 0):\n",
        "        print(\"primer cuadrante\")\n",
        "      else:\n",
        "        if (self.x < 0 and self.y > 0):  \n",
        "          print(\"Segundo cuadrante\")\n",
        "        else:\n",
        "          if (self.x < 0 and self.y < 0): \n",
        "            print(\"tercer cuadrante\")\n",
        "          else:\n",
        "            if(self.x > 0 and self.y < 0): \n",
        "              print(\"cuarto cuadrante\")\n",
        "            else:\n",
        "              print(\"esta coordenada es el centro \")\n",
        "\n",
        "\n",
        "punto1 = Punto(0, 0)\n",
        "punto1.imprimir()\n",
        "punto1.imprimir_cuadrante()"
      ],
      "execution_count": null,
      "outputs": [
        {
          "output_type": "stream",
          "text": [
            "Coordenada del punto\n",
            "( 0  ,  0 )\n",
            "esta coordenada es el centro \n"
          ],
          "name": "stdout"
        }
      ]
    },
    {
      "cell_type": "code",
      "metadata": {
        "id": "toUUnhGmw0XL",
        "outputId": "7e45e294-2733-4c76-f2fc-b69a9937797a",
        "colab": {
          "base_uri": "https://localhost:8080/",
          "height": 72
        }
      },
      "source": [
        "class Punto:\n",
        "\n",
        "    def __init__(self,x,y):\n",
        "        self.x=x\n",
        "        self.y=y\n",
        "\n",
        "    def imprimir(self):\n",
        "        print(\"Coordenada del punto\")\n",
        "        print(\"(\",self.x,\",\",self.y,\")\")\n",
        "\n",
        "    def imprimir_cuadrante(self):\n",
        "        if self.x>0 and self.y>0:\n",
        "            print(\"Primer cuadrange\")\n",
        "        else:\n",
        "          if self.x<0 and self.y>0:\n",
        "                print(\"Segundo cuadrante\")\n",
        "          else:\n",
        "                if self.x<0 and self.y<0:\n",
        "                    print(\"Tercer cuadrante\")\n",
        "                else:\n",
        "                    if self.x>0 and self.y<0:\n",
        "                        print(\"Cuarto cuadrante\")\n",
        "\n",
        "\n",
        "# bloque principal\n",
        "\n",
        "punto1=Punto(10,-2)\n",
        "punto1.imprimir()\n",
        "punto1.imprimir_cuadrante()"
      ],
      "execution_count": null,
      "outputs": [
        {
          "output_type": "stream",
          "text": [
            "Coordenada del punto\n",
            "( 10 , -2 )\n",
            "Cuarto cuadrante\n"
          ],
          "name": "stdout"
        }
      ]
    },
    {
      "cell_type": "code",
      "metadata": {
        "id": "ohxk73s6pcNx",
        "outputId": "a095e2bd-7a3f-4478-892a-a0db5874fb77",
        "colab": {
          "base_uri": "https://localhost:8080/",
          "height": 35
        }
      },
      "source": [
        "class Perro:\n",
        " def __init__(self, nombre, raza, edad):\n",
        "  self.nombre = nombre\n",
        "  self.raza = raza\n",
        "  self.edad = edad\n",
        "\n",
        " def ladra(self):\n",
        "  print (self.nombre, \"dice '¡Wooof!'\")\n",
        "\n",
        "mascota = Perro(\"Lassie\", \"Collie\", 18)\n",
        "mascota.ladra()"
      ],
      "execution_count": null,
      "outputs": [
        {
          "output_type": "stream",
          "text": [
            "Lassie dice '¡Wooof!'\n"
          ],
          "name": "stdout"
        }
      ]
    },
    {
      "cell_type": "markdown",
      "metadata": {
        "id": "9ilMfyIhxTn8"
      },
      "source": [
        "**Problemas propuestos**\n",
        "\n",
        "1. Desarrollar una clase que represente un Cuadrado y tenga los siguientes métodos: inicializar el valor del lado llegando como parámetro al método __init__ (definir un atributo llamado lado), imprimir su perímetro y su superficie.\n",
        "\n",
        "2. Implementar la clase Operaciones. Se deben cargar dos valores enteros por teclado en el método __init__, calcular su suma, resta, multiplicación y división, cada una en un método, imprimir dichos resultados.\n",
        "\n"
      ]
    },
    {
      "cell_type": "code",
      "metadata": {
        "id": "oqxyFORSAdKa",
        "outputId": "59c700cf-0dfd-4f37-8395-a9ef0d91118f",
        "colab": {
          "base_uri": "https://localhost:8080/",
          "height": 54
        }
      },
      "source": [
        "class Cuadrado:\n",
        "\n",
        "    def __init__(self, lado):\n",
        "        self.lado = lado\n",
        "\n",
        "    def mostrar_perimetro(self):\n",
        "        perimetro = self.lado * 4\n",
        "        print(\"El perimetro del cuadrado es: \" ,perimetro)\n",
        "\n",
        "    def mostrar_superficie(self):\n",
        "        superficie = self.lado * self.lado\n",
        "        print(\"La superficie del cuadrado es:\", superficie)\n",
        "\n",
        "\n",
        "cuadrado1 = Cuadrado(5)\n",
        "cuadrado1.mostrar_perimetro()\n",
        "cuadrado1.mostrar_superficie()"
      ],
      "execution_count": null,
      "outputs": [
        {
          "output_type": "stream",
          "text": [
            "El perimetro del cuadrado es:  20\n",
            "La superficie del cuadrado es: 25\n"
          ],
          "name": "stdout"
        }
      ]
    },
    {
      "cell_type": "markdown",
      "metadata": {
        "id": "b54F6nApx_97"
      },
      "source": [
        "**Llamada de métodos desde otro método de la misma clase**\n",
        "\n",
        "\n",
        "Hasta ahora todos los problemas planteados hemos llamado a los métodos desde donde definimos un objeto de dicha clase, por ejemplo:\n",
        "\n",
        "empleado1=Empleado(\"diego\",2000)\n",
        "\n",
        "empleado1.paga_impuestos()\n",
        "\n",
        "Utilizamos la sintaxis:\n",
        "\n",
        "*[nombre del objeto].[nombre del método]*\n",
        "\n",
        "Es decir antecedemos al nombre del método el nombre del objeto y el operador punto\n",
        "\n",
        "Ahora bien que pasa si queremos llamar dentro de la clase a otro método que pertenece a la misma clase, la sintaxis es la siguiente:\n",
        "\n",
        "self.[nombre del método]\n",
        "\n",
        "**Es importante tener en cuenta que esto solo se puede hacer cuando estamos dentro de la misma clase.**\n",
        "\n",
        "**Problema 5:**\n",
        "\n",
        "Plantear una clase Operaciones que solicite en el método __init__ la carga de dos enteros e inmediatamente muestre su suma, resta, multiplicación y división. Hacer cada operación en otro método de la clase Operación y llamarlos desde el mismo método __init__\n",
        "\n",
        "\n"
      ]
    },
    {
      "cell_type": "code",
      "metadata": {
        "id": "2wBAEFl_z3DI"
      },
      "source": [
        "class Operacion:\n",
        "\n",
        "    def __init__(self):\n",
        "        self.valor1 = int(input(\"Ingrese primer valor:\"))\n",
        "        self.valor2 = int(input(\"Ingrese segundo valor:\"))\n",
        "        self.calcular()\n",
        " \n",
        "    def sumar(self):\n",
        "        suma = self.valor1 + self.valor2\n",
        "        print(\"La suma es\", suma)\n",
        "\n",
        "    def restar(self):\n",
        "        resta = self.valor1 - self.valor2\n",
        "        print(\"La resta es\", resta)\n",
        "\n",
        "    def multiplicar(self):\n",
        "        multi = self.valor1 * self.valor2\n",
        "        print(\"El producto es\",multi)\n",
        "\n",
        "    def dividir(self):\n",
        "      if self.valor2 != 0:\n",
        "        divi = self.valor1 / self.valor2\n",
        "        print(\"La division es\" ,divi)\n",
        "      else:\n",
        "        print(\"división no es valida\")\n",
        "\n",
        "    def calcular(self):\n",
        "        self.sumar()\n",
        "        self.restar()\n",
        "        self.multiplicar()\n",
        "        self.dividir()\n",
        "\n",
        "\n",
        "\n",
        "# bloque principal\n",
        "\n",
        "operacion1 = Operacion()\n"
      ],
      "execution_count": null,
      "outputs": []
    },
    {
      "cell_type": "code",
      "metadata": {
        "id": "BfhKBfvmEmdj",
        "outputId": "992b9e0c-1e59-45f7-c527-27040f5b3684",
        "colab": {
          "base_uri": "https://localhost:8080/",
          "height": 85
        }
      },
      "source": [
        "class operaciones:\n",
        "\n",
        "    def __init__(self):\n",
        "       self.valor1 = int(input(\"valor \"))\n",
        "       self.valor2 = int(input(\"valor \"))\n",
        "       \n",
        "\n",
        "    def sumar(self):\n",
        "        suma= self.valor1 + self.valor2\n",
        "        print(\"la suma es\" ,suma)\n",
        "    \n",
        "\n",
        "    def restar(self):\n",
        "        resta=self.num1-self.num2\n",
        "        print(\"la resta de\",self.num1,\"y\" ,self.num2, \"es\" ,resta)\n",
        "    \n",
        "    def multiplicar(self):\n",
        "        multiplicacion=self.num1*self.num2\n",
        "        print(\"la multiplicacion de\",self.num1,\"y\" ,self.num2, \"es\" ,multiplicacion)\n",
        "    \n",
        "    def dividir(self):\n",
        "        valor2 = 1\n",
        "        if self.valor2 != 0:\n",
        "           division=self.valor1 / self.valor2\n",
        "           print(\"la division de\",self.valor1,\"y\" ,self.valor2, \"es\" ,division)\n",
        "        else:\n",
        "            print(\"num2 no puede ser 0\")\n",
        "       \n",
        "\n",
        "a1 = operaciones()\n",
        "\n",
        "a1.sumar()\n",
        "a1.dividir()\n",
        "\n"
      ],
      "execution_count": null,
      "outputs": [
        {
          "output_type": "stream",
          "text": [
            "valor 7\n",
            "valor 4\n",
            "la suma es 11\n",
            "la division de 7 y 4 es 1.75\n"
          ],
          "name": "stdout"
        }
      ]
    },
    {
      "cell_type": "markdown",
      "metadata": {
        "id": "MsWHwxYb0Iu1"
      },
      "source": [
        "**Problema 6:**\n",
        "Plantear una clase que administre dos listas de 5 nombres de alumnos y sus notas. \n",
        "Mostrar un menú de opciones que permita:\n",
        "\n",
        "1- Cargar alumnos.\n",
        "\n",
        "2- Listar alumnos.\n",
        "\n",
        "3- Mostrar alumnos con notas mayores o iguales a 7.\n",
        "\n",
        "4- Finalizar programa.\n"
      ]
    },
    {
      "cell_type": "code",
      "metadata": {
        "id": "hQIB3Mtzx9YF"
      },
      "source": [
        "class Alumnos:\n",
        "\n",
        "    def __init__(self):\n",
        "        self.nombres=[]\n",
        "        self.notas=[]\n",
        "        self.menu()\n",
        "\n",
        "    def menu(self):\n",
        "        opcion = 0\n",
        "        while opcion != 4:\n",
        "            print(\"1- Cargar alumnos\")\n",
        "            print(\"2- Listar alumnos\")\n",
        "            print(\"3- Listado de alumnos con notas mayores o iguales a 7\")\n",
        "            print(\"4- Finalizar programa\")\n",
        "            opcion = int(input(\"Ingrese su opcion:\"))\n",
        "            if opcion == 1:\n",
        "                self.cargar()\n",
        "            else:\n",
        "              if opcion == 2:\n",
        "                self.listar()\n",
        "              else:\n",
        "                 if opcion == 3:\n",
        "                    self.notas_altas()\n",
        "\n",
        "    def cargar(self):\n",
        "        for x in range(5):\n",
        "            nom = input(\"Ingrese nombre del alumno:\")\n",
        "            self.nombres.append(nom)\n",
        "            no = int(input(\"Nota del alumno:\"))\n",
        "            self.notas.append(no)\n",
        "\n",
        "    def listar(self):\n",
        "        print(\"Listado completo de alumnos\")\n",
        "        for x in range(5):\n",
        "            print(self.nombres[x],\" nota \",self.notas[x])\n",
        "        print(\"_____________________\")            \n",
        "\n",
        "    def notas_altas(self):\n",
        "        print(\"Alumnos con notas superiores o iguales a 7\")\n",
        "        for x in range(5):\n",
        "            if self.notas[x] >= 7:\n",
        "                print(self.nombres[x], \" nota \",self.notas[x])\n",
        "        print(\"_____________________\")                \n",
        "\n",
        "\n",
        "# bloque principal\n",
        "\n",
        "alumnos = Alumnos()\n",
        "\n",
        "\n",
        "\n",
        "\n"
      ],
      "execution_count": null,
      "outputs": []
    },
    {
      "cell_type": "markdown",
      "metadata": {
        "id": "xTJny9UXDAvK"
      },
      "source": [
        "# IF anidado\n",
        "\n",
        "https://www.mclibre.org/consultar/python/lecciones/python-if-else.html\n",
        "\n",
        "https://www.mclibre.org/consultar/python/index.html"
      ]
    },
    {
      "cell_type": "markdown",
      "metadata": {
        "id": "-ad_l7ww1Ra9"
      },
      "source": [
        "# **Problema propuesto**\n",
        "\n",
        "Confeccionar una clase que administre una agenda personal. Se debe almacenar el nombre de la persona, teléfono y mail\n",
        "\n",
        "Debe mostrar un menú con las siguientes opciones:\n",
        "\n",
        "1- Carga de un contacto en la agenda.\n",
        "\n",
        "2- Listado completo de la agenda.\n",
        "\n",
        "3- Consulta ingresando el nombre de la persona.\n",
        "\n",
        "4- Modificación de su teléfono y mail.\n",
        "\n",
        "5- Finalizar programa."
      ]
    },
    {
      "cell_type": "markdown",
      "metadata": {
        "id": "b7M2dGE31ZIu"
      },
      "source": [
        ""
      ]
    }
  ]
}