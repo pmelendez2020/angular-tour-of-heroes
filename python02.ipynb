{
  "nbformat": 4,
  "nbformat_minor": 0,
  "metadata": {
    "colab": {
      "name": "python02.ipynb",
      "provenance": [],
      "authorship_tag": "ABX9TyNADPLgkDXJAhIxJT/4KeSd",
      "include_colab_link": true
    },
    "kernelspec": {
      "name": "python3",
      "display_name": "Python 3"
    }
  },
  "cells": [
    {
      "cell_type": "markdown",
      "metadata": {
        "id": "view-in-github",
        "colab_type": "text"
      },
      "source": [
        "<a href=\"https://colab.research.google.com/github/pmelendez2020/angular-tour-of-heroes/blob/master/python02.ipynb\" target=\"_parent\"><img src=\"https://colab.research.google.com/assets/colab-badge.svg\" alt=\"Open In Colab\"/></a>"
      ]
    },
    {
      "cell_type": "markdown",
      "metadata": {
        "id": "P4c3SRQeHLGk"
      },
      "source": [
        "# **Estructura de datos tipo lista**\n",
        "\n",
        "\n"
      ]
    },
    {
      "cell_type": "markdown",
      "metadata": {
        "id": "btSpAtS8HOgv"
      },
      "source": [
        "Hasta ahora hemos trabajado con variables que permiten almacenar un único valor:\n",
        "\n",
        "edad=12\n",
        "\n",
        "altura=1.79\n",
        "\n",
        "nombre=\"juan\"\n",
        "\n",
        "En Python existe un tipo de variable que permite almacenar una colección de datos y luego acceder por medio de un subíndice (similar a los string)\n",
        "Creación de la lista por asignación\n",
        "\n",
        "Para crear una lista por asignación debemos indicar sus elementos encerrados entre corchetes y separados por coma.\n",
        "\n",
        "lista1=[10, 5, 3]                       # lista de enteros\n",
        "\n",
        "lista2=[1.78, 2.66, 1.55, 89,4]         # lista de valores float\n",
        "\n",
        "lista3=[\"lunes\", \"martes\", \"miercoles\"] # lista de string\n",
        "\n",
        "lista4=[\"juan\", 45, 1.92]               # lista con elementos de distinto tipo"
      ]
    },
    {
      "cell_type": "markdown",
      "metadata": {
        "id": "U9iJex-JOji8"
      },
      "source": [
        "Si queremos conocer la cantidad de elementos de una lista podemos llamar a la función len:\n",
        "\n",
        "lista1=[10, 5, 3]   # lista de enteros\n",
        "\n",
        "print(len(lista1))  # imprime un 3\n"
      ]
    },
    {
      "cell_type": "markdown",
      "metadata": {
        "id": "MM6MbM5NOwaj"
      },
      "source": [
        "**Problema 1:**\n",
        "\n",
        "Definir una lista que almacene 5 enteros. Sumar todos sus elementos y mostrar dicha suma."
      ]
    },
    {
      "cell_type": "code",
      "metadata": {
        "id": "GD7CXd2qI-vR",
        "outputId": "e25fe8a7-3a70-4ba2-d59e-6c0c289313b9",
        "colab": {
          "base_uri": "https://localhost:8080/",
          "height": 36
        }
      },
      "source": [
        "lista = [10,7,3,7,2]\n",
        "#print(lista)\n",
        "a = lista[0]\n",
        "b = lista[1]\n",
        "c = lista[2]\n",
        "d = lista[3]\n",
        "e = lista[4]\n",
        "suma = a + b + c + d + e\n",
        "print(len(lista))\n"
      ],
      "execution_count": 8,
      "outputs": [
        {
          "output_type": "stream",
          "text": [
            "5\n"
          ],
          "name": "stdout"
        }
      ]
    },
    {
      "cell_type": "code",
      "metadata": {
        "id": "o988WjZWHW3K"
      },
      "source": [
        "lista=[10,7,3,7,2]\n",
        "suma=0\n",
        "x=0\n",
        "while x < len(lista):\n",
        "    suma = suma + lista[x]\n",
        "    x=x+1\n",
        "print(\"Los elementos de la lista son\")\n",
        "print(lista)\n",
        "print(\"La suma de todos sus elementos es\")    \n",
        "print(suma)"
      ],
      "execution_count": null,
      "outputs": []
    },
    {
      "cell_type": "code",
      "metadata": {
        "id": "ppB7wU_nRPKE",
        "outputId": "c92c272f-79a9-45ac-dbeb-e54028a17040",
        "colab": {
          "base_uri": "https://localhost:8080/",
          "height": 36
        }
      },
      "source": [
        "lista=[10,7,3,7,2]\n",
        "suma=0\n",
        "limite = len(lista)\n",
        "for i in range(limite):\n",
        "  suma = suma + lista[i]\n",
        "print(suma)\n",
        "\n"
      ],
      "execution_count": 12,
      "outputs": [
        {
          "output_type": "stream",
          "text": [
            "29\n"
          ],
          "name": "stdout"
        }
      ]
    },
    {
      "cell_type": "markdown",
      "metadata": {
        "id": "KSxxId6eO_T3"
      },
      "source": [
        "**Problema 2:**\n",
        "\n",
        "Definir una lista por asignación que almacene los nombres de los primeros cuatro meses de año. Mostrar el primer y último elemento de la lista solamente."
      ]
    },
    {
      "cell_type": "code",
      "metadata": {
        "id": "pPrgFWPAG_fN",
        "outputId": "47d01b95-60f0-4b9a-852c-15e6096bb00f",
        "colab": {
          "base_uri": "https://localhost:8080/",
          "height": 55
        }
      },
      "source": [
        "meses=[\"enero\", \"febrero\", \"marzo\", \"abril\"]\n",
        "print(meses[0]) # se muestra enero\n",
        "print(meses[3]) # se muestra abril"
      ],
      "execution_count": 13,
      "outputs": [
        {
          "output_type": "stream",
          "text": [
            "enero\n",
            "abril\n"
          ],
          "name": "stdout"
        }
      ]
    },
    {
      "cell_type": "markdown",
      "metadata": {
        "id": "tmH6FWP7PLsM"
      },
      "source": [
        "Si llamamos a print y pasamos solo el nombre de la lista luego se nos muestra todos los elementos:\n",
        "\n"
      ]
    },
    {
      "cell_type": "code",
      "metadata": {
        "id": "GATf9y2oPOE-"
      },
      "source": [
        "\n",
        "print(meses) # se muestra [\"enero\", \"febrero\", \"marzo\", \"abril\"]"
      ],
      "execution_count": null,
      "outputs": []
    },
    {
      "cell_type": "markdown",
      "metadata": {
        "id": "T0V8GgU8PTWA"
      },
      "source": [
        "**Problema 3:**\n",
        "\n",
        "Definir una lista por asignación que almacene en la primer componente el nombre de un alumno y en las dos siguientes sus notas. Imprimir luego el nombre y el promedio de las dos notas."
      ]
    },
    {
      "cell_type": "code",
      "metadata": {
        "id": "QkwSqEE9PYjk",
        "outputId": "aab1fc68-7ac1-48ae-a1a4-f9f1f97142e7",
        "colab": {
          "base_uri": "https://localhost:8080/",
          "height": 92
        }
      },
      "source": [
        "lista = [\"juan\", 4, 7]\n",
        "print(\"Nombre del estudiante: \")\n",
        "print(lista[0])\n",
        "promedio = (lista[1] + lista[2])/2\n",
        "print(\"Promedio de sus dos notas: \")\n",
        "print(promedio)"
      ],
      "execution_count": 20,
      "outputs": [
        {
          "output_type": "stream",
          "text": [
            "Nombre del estudiante: \n",
            "juan\n",
            "Promedio de sus dos notas: \n",
            "5.5\n"
          ],
          "name": "stdout"
        }
      ]
    },
    {
      "cell_type": "markdown",
      "metadata": {
        "id": "IvCsR-S2Plql"
      },
      "source": [
        "# ***Problemas propuestos***"
      ]
    },
    {
      "cell_type": "markdown",
      "metadata": {
        "id": "8FD-dr-JPqre"
      },
      "source": [
        "1. Definir por asignación una lista con 8 elementos enteros. Contar cuantos de dichos valores almacenan un valor superior a 100.\n",
        "\n",
        "2. Definir una lista por asignación con 5 enteros. Mostrar por pantalla solo los elementos con valor iguales o superiores a 7.\n",
        "\n"
      ]
    },
    {
      "cell_type": "code",
      "metadata": {
        "id": "pl1J7kaTZbpZ"
      },
      "source": [
        "lista=[10,3,9,1,20]\n",
        "limite = len(lista)\n",
        "for i in range(limite):\n",
        "  if lista[i] >= 7:\n",
        "    print(lista[i])\n",
        "\n",
        " \n"
      ],
      "execution_count": null,
      "outputs": []
    },
    {
      "cell_type": "markdown",
      "metadata": {
        "id": "Jdq6L7JHQMW6"
      },
      "source": [
        "**Listas: carga por teclado de sus elementos**"
      ]
    },
    {
      "cell_type": "markdown",
      "metadata": {
        "id": "3Ev4G5qZQPLN"
      },
      "source": [
        "Una lista en Python es una estructura mutable (es decir puede ir cambiando durante la ejecución del programa)\n",
        "\n",
        "Hemos visto que podemos definir una lista por asignación indicando entre corchetes los valores a almacenar:\n",
        "\n",
        "lista=[10, 20, 40]\n",
        "\n",
        "Una lista luego de definida podemos agregarle nuevos elementos a la colección. La primera forma que veremos para que nuestra lista crezca es utilizar el método append que tiene la lista y pasar como parámetro el nuevo elemento:\n"
      ]
    },
    {
      "cell_type": "code",
      "metadata": {
        "id": "eN8oq8deQlAh",
        "outputId": "2c1e6a60-1e59-4917-a4dd-a285bd3ac863",
        "colab": {
          "base_uri": "https://localhost:8080/",
          "height": 92
        }
      },
      "source": [
        "lista=[10, 20, 30]\n",
        "print(len(lista))    # imprime un 3\n",
        "lista.append(100)\n",
        "print(len(lista))    # imprime un 4\n",
        "print(lista[0])      # imprime un 10\n",
        "print(lista[3])      # imprime un 100"
      ],
      "execution_count": 23,
      "outputs": [
        {
          "output_type": "stream",
          "text": [
            "3\n",
            "4\n",
            "10\n",
            "100\n"
          ],
          "name": "stdout"
        }
      ]
    },
    {
      "cell_type": "code",
      "metadata": {
        "id": "u8K1Cf0cbIgr",
        "outputId": "79c8cc2e-7e37-4990-ca55-e1598be5bdd0",
        "colab": {
          "base_uri": "https://localhost:8080/",
          "height": 55
        }
      },
      "source": [
        "lista = [] #lista vacia\n",
        "lista.append(10)\n",
        "lista.append(20)\n",
        "lista.append(30)\n",
        "lista.append(40)\n",
        "lista.append(50)\n",
        "print(lista)\n",
        "print(len(lista))\n"
      ],
      "execution_count": 26,
      "outputs": [
        {
          "output_type": "stream",
          "text": [
            "[10, 20, 30, 40, 50]\n",
            "5\n"
          ],
          "name": "stdout"
        }
      ]
    },
    {
      "cell_type": "markdown",
      "metadata": {
        "id": "q2ggiYm-Qav_"
      },
      "source": [
        "**Problema 4:**\n",
        "\n",
        "Definir una lista vacía y luego solicitar la carga de 5 enteros por teclado y añadirlos a la lista. Imprimir la lista generada."
      ]
    },
    {
      "cell_type": "code",
      "metadata": {
        "id": "27zN-NVXqiiw"
      },
      "source": [
        "#definimos una lista vacia\n",
        "lista=[]\n",
        "#disponemos un ciclo de 5 vueltas\n",
        "for x in range(5):\n",
        "    valor=int(input(\"Ingrese un valor entero:\"))\n",
        "    lista.append(valor)\n",
        "\n",
        "#imprimimos la lista    \n",
        "print(lista)"
      ],
      "execution_count": null,
      "outputs": []
    },
    {
      "cell_type": "code",
      "metadata": {
        "id": "PP4ChNOueR3E"
      },
      "source": [
        "#definimos una lista vacia\n",
        "lista=[]\n",
        "numero = int(input(\"Cuantos valores enteros? \"))\n",
        "for x in range(numero):\n",
        "    valor=int(input(\"Ingrese un valor entero:\"))\n",
        "    lista.append(valor)\n",
        "\n",
        "#imprimimos la lista    \n",
        "print(lista)"
      ],
      "execution_count": null,
      "outputs": []
    },
    {
      "cell_type": "markdown",
      "metadata": {
        "id": "ymqLdz9nq0Vc"
      },
      "source": [
        "**Problema 5:**\n",
        "\n",
        "Realizar la carga de valores enteros por teclado, almacenarlos en una lista. Finalizar la carga de enteros al ingresar el cero. Mostrar finalmente el tamaño de la lista."
      ]
    },
    {
      "cell_type": "code",
      "metadata": {
        "id": "16QcmfI9qzXK"
      },
      "source": [
        "lista=[]\n",
        "valor=int(input(\"Ingresar valor (0 para finalizar):\"))\n",
        "while valor != 0:\n",
        "    lista.append(valor)\n",
        "    valor=int(input(\"Ingresar valor (0 para finalizar):\"))\n",
        "\n",
        "print(\"Tamano de la lista:\")\n",
        "print(len(lista))\n",
        "print(\"la lista:\")\n",
        "print(lista)\n"
      ],
      "execution_count": null,
      "outputs": []
    },
    {
      "cell_type": "markdown",
      "metadata": {
        "id": "0rNIHIUhrGLv"
      },
      "source": [
        "# **Problemas propuestos**"
      ]
    },
    {
      "cell_type": "markdown",
      "metadata": {
        "id": "B3085xO1rK8k"
      },
      "source": [
        "1. Almacenar en una lista los sueldos (valores float) de 5 operarios. Imprimir la lista y el promedio de sueldos.\n",
        "2. Cargar por teclado y almacenar en una lista las alturas de 5 personas (valores float)\n",
        "Obtener el promedio de las mismas. Contar cuántas personas son más altas que el promedio y cuántas más bajas.\n",
        "3. Una empresa tiene dos turnos (mañana y tarde) en los que trabajan 8 empleados (4 por la mañana y 4 por la tarde) Confeccionar un programa que permita almacenar los sueldos de los empleados agrupados en dos listas.\n",
        "Imprimir las dos listas de sueldos. "
      ]
    },
    {
      "cell_type": "markdown",
      "metadata": {
        "id": "y2rNwwMbrfgi"
      },
      "source": [
        "# **Listas: mayor y menor elemento**"
      ]
    },
    {
      "cell_type": "markdown",
      "metadata": {
        "id": "bStYsYhbr59A"
      },
      "source": [
        "Es una actividad muy común la búsqueda del mayor y menor elemento de una lista.\n",
        "Es necesario que la lista tenga valores del mismo tipo por ejemplo enteros. Pueden ser de tipo cadenas de caracteres y se busque cual es mayor o menor alfabéticamente, pero no podemos buscar el mayor o menor si la lista tiene enteros y cadenas de caracteres al mismo tiempo.\n",
        "\n",
        "**Problema 6:**\n",
        "\n",
        "Crear y cargar una lista con 5 enteros. Implementar un algoritmo que identifique el mayor valor de la lista."
      ]
    },
    {
      "cell_type": "code",
      "metadata": {
        "id": "9_uQg4AmsJQc"
      },
      "source": [
        "lista=[]\n",
        "for x in range(5):\n",
        "    valor=int(input(\"Ingrese valor:\"))\n",
        "    lista.append(valor)\n",
        "\n",
        "mayor=lista[0]\n",
        "for x in range(1,5):\n",
        "    if lista[x]>mayor:\n",
        "        mayor=lista[x]\n",
        "\n",
        "print(\"Lista completa\")\n",
        "print(lista)\n",
        "print(\"Mayor de la lista\")\n",
        "print(mayor)"
      ],
      "execution_count": null,
      "outputs": []
    },
    {
      "cell_type": "markdown",
      "metadata": {
        "id": "KM3flDgdsPyO"
      },
      "source": [
        "**Problema 7:**\n",
        "\n",
        "Crear y cargar una lista con 5 enteros por teclado. Implementar un algoritmo que identifique el menor valor de la lista y la posición donde se encuentra."
      ]
    },
    {
      "cell_type": "code",
      "metadata": {
        "id": "Aont8SdKsR-R"
      },
      "source": [
        "lista=[]\n",
        "for x in range(5):\n",
        "    valor=int(input(\"Ingrese valor:\"))\n",
        "    lista.append(valor)\n",
        "\n",
        "menor=lista[0]\n",
        "posicion=0\n",
        "for x in range(1,5):\n",
        "    if lista[x]<menor:\n",
        "        menor=lista[x]\n",
        "        posicion=x\n",
        "\n",
        "print(\"Lista completa\")\n",
        "print(lista)\n",
        "print(\"Menor de la lista\")\n",
        "print(menor)\n",
        "print(\"Posicion del menor en la lista\")\n",
        "print(posicion)"
      ],
      "execution_count": null,
      "outputs": []
    },
    {
      "cell_type": "markdown",
      "metadata": {
        "id": "AXo5e2Y2sgq3"
      },
      "source": [
        "**Problema propuesto**\n",
        "\n",
        "Cargar una lista con 5 elementos enteros. Imprimir el mayor y un mensaje si se repite dentro de la lista (es decir si dicho valor se encuentra en 2 o más posiciones en la lista) "
      ]
    },
    {
      "cell_type": "markdown",
      "metadata": {
        "id": "2qWisfHctvJz"
      },
      "source": [
        "**Listas paralelas**\n",
        "\n",
        "Podemos decir que dos listas son paralelas cuando hay una relación entre las componentes de igual subíndice (misma posición) de una lista y otra.\n",
        "\n",
        "![imagen.png](data:image/png;base64,iVBORw0KGgoAAAANSUhEUgAAAfIAAABmCAYAAAAwERMxAAAgAElEQVR4nO1daZMbtxEdXktyT0lWJLucuPwhVanK//83qZQdx5K8Wt6ci3O9fGAe2MAM16vlcIbc7VeFWi6PGUwD6NdoNBoeFAqFQqFQnC28tiugUCgUCoXi+VAiVygUCoXijKFErlAoFArFGUOJXKFQKBSKM4YSuUKhUCgUZwwlcoVCoVAozhhK5AqFQqFQnDGUyA9EkiQAgCiKkOc58jwHAPi+32a1FAqFQtEQVqsVACAMQ/MeuaEJKJHXgDRNkec5siyz3t9sNi3VSKFQKBTHhu/7lp6XHBDHcWP1UCI/EFEUWbNv3/ctq4yzdC1atGjR8rIKYBN2GIZI07TxSZwSeU1Yr9cAdo2aJAmiKGqzSgqFQqE4IvI8RxzHRv+T3NM0LXlojwkl8gMhiVs2XJPrIwqFQqFoHtT/1P3SOzubzRqrhxL5gZAulCAIAADL5dK837brR4sWLVq0HKcA29m3BAPfmoQSeQ0Iw9DMwGUjNulaUSgUCkXz4Cy8KArM53MAwHQ6tWKljg0l8gNBq6woCgRBgKurK/R6PXieh36/D8/ztGjRokXLCy3U957n4fLyEgCwWCwa5SEl8hqR5zl6vZ5xtRRF0XKNzgOe5xlZSdmp/Gw5SNl4ng7dp0DKrtfrGcP7VMA2ZbBUlVu2KAqsViuzHstnamLG1+l0jGdRyk7HZhlt6n/VBjVCifx5UCLfDyXyw3DqRC7r45K47/uGvCVpL5fLZioHJfJvgRL5C4ES+fOgRL4fSuSH4dSJHLCJeT6fI01TK4CKQbTT6dS8l+e5ef+YUCJ/OpTIXwiUyJ8HJfL9UCI/DKdO5HmeV25VlfV03e9Njgsl8qdDifyFQIn8eVAi3w8l8sNw6kROck6SBA8PD9Znck/yb7/9Zl43mWhKifzpUCJ/IVAifx6UyPdDifwwnDqRE1wL//r1a2mGzv/dhFPqWj8tKJG/ECiRPw9K5PuhRH4YzoHIGeSWJImpH4mdbb4vg+SxoUT+dCiRvxAokT8PSuT7oUR+GE6dyFmfPM+tNpXpPZMkMZ8lSWJm6JPJ5Oj1UyJ/Os6eyKfTqVVppifNsqy0nrPZbEzyFMBOb7fZbCy3UpZlliJjh6qySLnWJMFr+b6PPM9RFEWlmyrLMqRpitVqZerznAHfRkN6nofhcAjP80ydKXM+oytTto88tWe9XlttRXk1gWMTeRzHlmy4lYfykQo0z+3jaCmToiis9+VWoSRJrO1Bda5hHpvIPW+buGgwGFjR03y+Xq+HTqdj2ihNU/i+b+qy70wB9rOiKP5UHrwWo7IpZ/bP+XxurkG98dTTpY5N5Gz31WoFz/NwdXVVShQin1+OOb6/XC4xGAzgeV6lbru+vjbtHYah0VfuNYuiMAZAXc95KJFTPkyQwv6yXC5xc3MDz/NwcXEBwOYCZkijzpbt6PIKvwtsZeHqP/6f57k1TuvWb2dN5DKDTZ7nRmhSuJ8+fUIQBBY5SOKVr2llMpqTnScMQzNAsiwzjSsH9Hq9NgOd93cH/GQyqUynysEQBAGiKHrWoSdtNaRU6mmaPolI3IFByLW3prITHZvIi6JAnueVxh6wVVZuX5rP56bvLZdL01ekbOVrmaaR16mD0JuYkX/48MG6npQTDUWg/DxUinK/M8dlFSEFQWD6lFSo0tCSxF8UhZErn32z2Zj++ZTznpuYkUs9IuXIZ2T/pm7bZ4RcXFwgSRJjUEVRhPV6jfV6jW63a2SQpinyPDfXWSwWWK/X1njh5OVQ1DUjl3zA51gul/A8D2maloxr+Rt3fz3rIWME0jQtTUyA/Trs06dP31T/p+CsiZxwT3qRjS8tLZf4gyAokeZisSgpLzaSHCir1coQr7vHErAFKRs9z3PTSaTSur+/N/eTEaNPRRsNuV6vjUzkrNpVutPp1PKC5HluPWMQBEbRTKfTJynJunBMIpftTsXHTFmbzcbIjn9dJbvZbEqzbc6KgGpPUJ1nER+byOW1xuOxJS9XNsB2bHJ8yaN6fd8v9bnJZGLk5Cpjd9a02WwwmUwsbx7vwc+pY5IkeXL/bILIWWdONoCdcRJFETqdjpXYRRolxGw2s37rQo5xCSlXvn6O7tqHQ4k8juPK7/I5rq6uANjeVjlzlsYLsOs3HINhGFrPy/fce/73v/8FsO07+wz6Q3HWRE53m0Sapliv10aowM4CIuHKzpqmqbFC//jjDwBboSwWC6tBl8slOp1OaZsGIa0saQFyXSlJEjN4ZOPLhn3Mff9naKshv/vuO8xmMyyXS2t2VRSFcbsTQRDg3bt3xg0olxI6nQ6ArdIYjUaN1J33OxaR8xr8G0WRdV26lEejEcIwtEg7yzKLzKrI8/r62riegerZwqH1P/aMvNvtAtg+4/39PYAtydzc3Jj30zS1iEcu6Uj0+31EUQTP8/Du3TtzLcrv4uLC3ENe6/r6Gv1+H8BOhvJ3t7e35tmJp5wydWwip/7jdQeDAYCdTsmyzHg0JpMJiqIwrnI+L8mpqq99+fLFvLfZbIw30vM83NzcoNvt4uHhwbSNXB6pg7AOJXLJDQ8PD+b/IAhM+3Jy57YN3eqe52EwGGA8HhtPA/UXIb21WZah0+mY30pdNhgMMBgMMBwOa9/Gd9ZETkJmY+w7k5vuTcAmUZKytNzkjJqKNc9zo3CALVHzXrIju3hsrTfLMtOhiCp36VPRRkO6QTK+75v/ueY/Go1MtKtcS//69Ss6nQ5838fl5aWlQObzeWMBVcd2ra9WK4vQ+VrOwqMowvX1NQBbsXY6HVxeXpbW09M0tZRQURTo9XqlPn8ojk3kVV4JYDseh8OheU5gSwzsX677PQgCQ8iyD7nXXa1W+OGHH0zucNlX+V35GoC5NvDt3qJjE7lLQjR6eE/Kj/3i+vraTHL4fdaT6+vAVjf1ej1zHylDEpa8J7Cb4VfN+J+LOlzrJFdeQ5I7Jw/u9dfrtWkzGi9AWQ6c+AVBYPiBBqa8Nt34vI/s93XhrImcQRoAjOXMAI8sy7Ber5EkiREuAxs4YxkOh7i8vESSJLi4uMBoNDJuJlqsHCxU+O7sqNPpYDweGzeWdFEVRYFutwvP83B3d2c8ArzGcDg0HYB1coMinoq218hdyx7YEY4McJNn6VKmWZZZrtU8zw2xNVH/YxL577//DsCeofzxxx/4/vvvzXtBEGA4HBqFw5mNVMySQGXd6Akaj8f4+vUrgPoOtGhiRj4ajcwsmTPKbrdrDNm7u7vS0hlQHSwoX0vjkZDBhmmaWjP01WpllG9RFEZXANt+Kw1r6XF7DE251rlG7Xme8Yq9e/cO4/EYwG7pUZLYZDIxsrm/v7cMF2ArS3dJURrYlMdgMDAyDcOwRJaHoA4iT9PUMnBpqC0WC4xGI/i+j6IoSlvuADuYMAxDvHnzBr/88guSJLEMnfv7e9zd3cH3fXz58gU3NzfG+ybv7XqV6sRZEzndF0mSGBKWM2e6MmR6QWl1zudz4+ql5U2XnBs44hK453mWwnVnFvtmmIvFAj/++COArWLpdruWK5QN8K0WbRsNuVgscH19bUWDjsdjo1wAWPIGYB2757qnJF7KjByAIdhff/3Vui9nQTQAKUfp1nNnn8C2P7qzUPZ71vs5AZMujk3kcsYN7J6PbnW+J58pyzKMRiPTh+QYoxuZLmF5TbljQgaC8ZnoXaJC5/+S3Kt2FDyGYxO56973PM8QLKOroygybbdYLNDr9dDtdvHmzRsz6QF2RhSwJX6OTepWaXzTk8m+4OqsusZPXcFujDWRY8L1JrLuQRCgKLY7m+I4NmOz2+0aw4iTNsa6ANtgQb6W15V9QPZZaQjUgbMmckmarhC5JUNaWEVR4ObmxhAnFQIAc343v8/Xm80Gd3d3phOEYYjVamWUTafTMbP3qmAd1ms0GlnXlha+m/P4OScMtT0jJ1l1Oh1DPnEc4/b21gz8i4sLK+BQWvdyBuT7Pu7u7hqr/7GI3I3Kl/fk59IV6brypFFKdye/3+/3rZnExcWFFXxTx6yoiRk5yZP9l+9Vzbjn8zlubm7M1lC64AGYtUk+P0nu4uKiFKvgXns2myHPc9ze3iKOY8t9Lmf1VdHNj6GpGTmj7WW/ksuJwFY3Ub5xHCNNU4zHY4RhiCiK0O/3LU+Oq1NJ+OPx2Hp+6VWrM9ASOJzIpY6V40EGu8lAZYLLgYPBoPJZ+Zp1kWOCM/08z00/kkHBAEqeojpw8kQex7HpYHKbFrCb3QHbgcuABA5qoBx0QSVRNRvgXnI5+OUAAcrWvJwJUYiclXIthNauzIxUZQ2y4z0nUORYDSkHg1xrq1o32mw2xmplZ5XLDa7rUxKV60bu9/uV623SoKoDx56RS1JwXcj8bLPZlGYI7vqwW1fXSPU8z9oWVEfk/7GJPIoi9Hq9SpcjiYHjWC7d8PuuzFzjOYoi0x+l98z9PtHr9cz3+v2+kedwOLTk+dT+cWwil9ejB0fe082TIQ0SLvu5S2LUT1LudBvze3LSMRqNLO/EU4IAn4q69pFXubfl+KJ7HbD7xHA4tCZZ/Ez2O3pV3WVe12Mj5ct716nfTprI5cyUQQtVMzpgNwMHtkpMzoCrvg9sFSqVq/yMBMPOy//dAI80TU2kLGCvL3W7XYxGI6OQ+B2ZHUneU5L3KW4/Y/0ZJCSNKNY3SRJ8+fLFxAUAtjuY/3ueZzwgsnDgkPz7/b6Z6bOd3AQoh+KYRO77vhmkNHJclzCwdQX3ej388MMP5jP5XdaT7vjPnz8DgPWdH374Ab1ez3IrH4pjE/n3339v2pltyoAsYDvu7u7uSrOZi4sLqw/J5Ro5UwJ2ekF+dn9/b8Yyr8XPZBzLaDTCcDg0gZsy+clT0MSMnAFXDBgdDodmuxPb7OvXr9YEgrKje52fMUmK53ml8Xp9fW1iA6TMXJm4W7YOQR2udelSpw75+vWrSUQkn0/2Axkbxb7A8cb6VE1SeC16FBk3wM96vZ5pqzr120kTOVDdMeQsOQgCZFmGy8vL7UW9XVAaO9nDwwM8z8P79+8BbAerdOWy40ZRhNFohIeHB9MQnrddP5ezInmvLMtKsx/WgZ2h2+1aA4PPQve8dKc+d1vCMRrStWT3JbyRn8n3Zd0AO3mHDCQh5O4BWX/WQwbSPGf5oQrHJHJeYz6fW4NT7oUmgiCofCYZ9f4YESyXS6sNzmGNfDabmb7CBExJklQGHLEOch32MXm49d4H2VdpkEqjVV4jTVPT95+yxe/YRC63mbHv8J5xHJfGoYzgBnZk5cqI16qaKfL5paz4vclkYrIT1pGT/VAi53PILXruuHD3gUtUPQOzt0mZubL+/PlzZSpbGTsk61GHfjt5IudA5poYG0S6ZZfLpbHKXXfjxcUF3r59axqFsxnP80yn5DpbHMd4+/ZtyX13e3uL9+/fmxk21z86nY5xi7oN0O12TSCdJDLWczQaGRKjwpCBNt+KYzXkcrmszFDEbHm8N8FAkSAISjLh99zEPPwOOzSTbjBhj1SadSacAI7vWpf7lmn0yahnd8CSRGS2LOY0kBH/YRgapeAaf3UZOU2skctcAoB97rVLCHJsSwOQfUIa3NIDRkUut3umaYrFYmGuL2etBOvkxjr88ssvT3q2YxM5vQdyfLiubXpoXLKmXmVEexRFlR4HmWlRpsflNSkX2c/rWiuvK9jNTT5FneIaY6w3d4LILH5SZ8ltyfJ3jyULqqp/nfrtpIm8yrLjQ1NZyUQsHMRyfWg2m5lZO38rrfnlcml1Thn8UBSFCSb59ddfLcUq60LIfb2PPZObKxuwG7pqu82f4RgN6V5jvV6X3D7r9dqqu+zwRbFLc7lcLs33+Hw0qmREsPw9B0WWZea7QH0JT4DjEjnrue/UKLY93aNuLIj7G35fKgvXw8FrncOMPI5jy+iQ7SqNkyzLTJ9hYhJ+h88tiVtmEeRMX0a+u8pSThA2m40lX2YhdOV5CjNyQuYSlyQhtzfKv27QH/dNS7heNmlAuoainHWuVisrGdchqIPI5TN8/vy5lEsfKI+7fb+X/Ybr6jIuBdjJlP2VqburEs7Uqd9OmsiBMtEC+x80z3Msl0sjzCoXnduJCUmeq9UK0+m0tCdSrl/IGbubLUqui8h7us/lGg3EqWR2k9eQqUEJWX83f7WMC5CDh3KTxox00fNZuA9TKokq+R+Kpogc2O1HBezDfSQ4uH3ft4wgQro9+bmrgOpwawLNzMiB3TpmURSlvN1uO7vxKABK2RaZQ8L93Xw+N22xXq8NAbr9FIDl/SD+9a9/Wff4MxybyCeTiZGDDOySOkvGTKxWK0RRZH7DwGBgt3NG5u0npHzpTYqiCF++fLHkcEhmyiocSuRyu6E0xJjlTi7jSX3EfiF1j8xBz+/KerjJyQBYbvQ4jkt5IurUbydP5HJASoVGa5wdi0EDtJK4xQKwXddy3avKkuV1iDiOS0pBWlvEYrEouaClpc86F0VRsmgl0T3XLXqshnRddW4d5SlvgC0TRu5XZd6T3+Fn7kE1RJ7bKXPl7w7FsV3rVJ5A2X3M99kX+bmbQlj+hnCj0ykjfv8cDk2RdZTuSf6VJ5DJcegaLvyNHNP8HVBeanATutDATJLEbEUDYAwLORNjsqmn4NhELmMnqrJayjXix8bLPoOG8iBms5mVf17ej2OzzuNN6yJyYKtP5Bjj53IS5u4zJ2SeffkZdypVbTN1Z+ZEVTKhOvTbSRO5FKzMyOQqKZIN16uBxwMXZLCC3DbmBlrJoBe62AC7kd3MQfuOQ5TKh/VkRDtd+PLzb8WxGtL1fsjToVy3Ju/tui5lMB+wi9x3Z1fS1Sd/SzDrXZ15io9J5DKVJWDPtt3vAeVjMuXsUX5P/l4mspDfqQNNzMhns1lppiLvJ59HtgmzNvI78jN3eYeQ4951/7oGtws34PAp/aMJ17o73t1Jhgy6rXIru3JmPIFbV3crG1BeE65yVx+COlzrnPDJ37tjROaRl/eokte+g1hc+Usuco+vlhOWuvTbSRO54mlwt8kBu6QQWvYXwN4CKJM4cMC+5iJlIRWh3OKlZX+hUuUeb8qMaLt+p17k1jgpO77Xdv3aLq47X26NaxJK5AciyzJrduZ53rMC5V4rZrMZfv75Z0ynUyuGoumBcMqQgWJhGGI6neLnn3/WfvZErNdrbDYb/P3vf8enT59Kkc6K/bi6ujKxIFJesk++Zrh6qt/vm50FdZ+u9hiUyGuA7NBuZjDFn0PKjK7dpx6K8RpQtc5cd7DbS4ZMywzYhyMpHofbz4qiqDVz3EuAXLd3t183BdUGB8INeJJpAJu0yM4ZrssziiKT2OK1I89zTCYTKy4CUCL/FtAF6nleafuS4nEwvS5QDvZ0dyq8RnBbq5spVO4YagKqDWoCA+zevHlj7bNlRKWW6hKGockpnWVZacdC2/Vru0jIhCmdTgdhGLZev1MvhO/7JunUcrks5bvQUl2urq7w73//2+qHMiCt7fq1XSR4+l+SJI0v2yiRHwi5TkllIfNK93o9LY8UKS8eU8jXKr+eJYvxeGxeM6d32/U79SLHIWX53Xff6fj8Bvn9+OOPpTMZVH7bIsfjaDSyTnOrIyHUU6FEXgOCIDDrRm4OYG4j0VJd3EQ07v7ktuvXdpGQJ7Xxb9v1O/VCFMUu3ayMNWi7fqdeZOY+Cbku/JqLu43O9Sg2BSXyA1GVhWnfXmVFGXleXgcPgkDjCwRkJjCJKtkpbHAsVh2QUXUOtqIMLkP4vm/lB9Co/x24M4JoekeJErlCoVAoFGcMJXKFQqFQKM4YSuQKhUKhUJwxlMgVCoVCoThjKJErFAqFQnHGUCJXKBQKheKMoUSuUCgUCsUZQ4lcoVAoFIozxsFELpOeyIxmTCJQFIV1qLs82F0mUWH2IGZdkgn63WxfvBcT1jNZBk+Jksdh8r5BEJSuU1cKPZkpKggCK1FH2+flnnqhrPhXtjv7yGsuso9SNlJmbdfv1AuA0mldcry2Xb9TLwCszG5FUZh+uNlsWq9f20WOzyiKkOe7bJVNJmyqbUa+2WwQhqH1YHwQZumSieb5Hh86TcvntzKLUJqmVnrKqiMued2iKAyxx3FcaQTw1J66c+FOp1N4noePHz+a/LudTkfLI6Xf71u5m//5z39auYvbrl/bZTQaVcrG8zz0+/3W63fqxfM8vH371spP/49//EPH5jfI729/+5s1Jt+8eYOrqyuV4f/lw3JxcdHaMda1EDlnxwQt4MViYYhUEqr7XhRF5vVsNrOuRes5DMOSZUhBZVlmfUYil3lw1+v1UQi8KAr4vm+s1Hfv3ul5vd+I0WgEYNsPZK7iKiPstUHK4OvXr8bYpcwUf44gCJAkCT58+AAA+OOPPwA0q2jPFe/evTO6lfo0iiJNb/t/yLSsYRgaIp/NZqU87MdELUQuXeZ5nlsDhIpIvsfX8gzvjx8/Wp1DCkgS78PDg0XatIbkbJ7HiJJc+XveL89zLJfL2gRNwyFJEnieZ7lWKBst1YVtKCH7TNv1a7u4Y0X2ewCt1+/UC1A+w53vq/z+vOw79576tu36tV0AYDKZGLl0u12LE5rCwUQuCfrh4cH8HwRB6WSrIAjMA0qijuPYdBieuCO/s1qtStbzer1GURTYbDa4ublBHMeltRtCGgh1u9PlbJwdPwgCFEWhM8onIEkS3NzcWEsiavHbmE6nZkywb93c3DR6TOK5YrPZIE1TFEWB0Whk6RY9mOfPMRgMAGzjj+RSpbs+/FohdTz1fxuHyRxM5HEcW6RJkNw4e66akYdhaGZdl5eXAOxAFMA2CORvZSCBNAJ+//138z1pOMhBG0XR3hOlnosgCBCGITqdDgA70E7L4xattPp5apBcNnnNRcpCnqikM/Kny486xfM8ZFlmGYlt1+/US5W3U+retuvXdiHPUUbU/2maWifFHRu1BbvJADQqHg4gkpoMdpPkLxU5XfNxHCPLssrISV43SRIjODcS1QWvy3XyqjN2nwM3ktjzPIRhCN/3K+uhsJHnOT5+/Ggpi6qjJ18r3GUhYKs0Pn78qMeYPgFZlhk5XV9fA7CNRMXjePv2rfU/J1VSNyt2fNLpdFqRy8FEzgeg9UHFs1wucXNzY6JrpdLJ89xEK2dZhl6vZw0qz/Pw7t07RFFkSD4IAjMAB4OBeb/b7Zrfco2aRV6v3+9jPB5bFmZdM3K5VWM8HlteiLa3R5x6YfuwL8nlFCnb11qkLLgzRMqs7fqdepHLepSZ9Oq1Xb9TL9JVLL2vcovvay7Abo18s9lgNBpZHuemUNuMvCgKQ+bdbtci0l6vZ5TRer02AQGbzab0Xa4xA0C/38doNEKe5/jy5QuArcVD4paELV+v12tcXFxY1wS2A5gz5mMgz3P0er1Kr8OxQE+EjC0AbDds1Vq9u/+fdZVLIE0FbHieV7q/HChNgLKTwZry/kVhkwLQjMdAykHWa18Q0rHqAMDaIyvhzmwXiwWKoqjcUir7YhPtK2XX6/Ua92LIHSwyn4ZEmqamXpPJxOinU9j9IvWtmx+jKTB4mWA93DokSYI4jiuXX5tAG/qfqGWNXBJjnueGjPM8N7NkYGuhjMdjK+kHZ+Xz+dx8j4Pf8zyLcC4uLpCmKcIwxGq1wmAwMMbDYDAwAyVNU3Q6HQRBgMlkgru7OyRJYq1ZLBaL2oMS2mpIPjfl+p///Md8JiP1+R2pIKT3QLohG90D2SKRF0VhkTgVBkkoiqJSP2F/bQJtE7l0Q8v2YJ+T5C63DrqQfZKyayIoqG0iJ3799VfzmoZgURSYz+emz93f35vvtBEwVYW2iZzjkzLj0qiUz2+//Vb6neSYpnDWRC7x5csX3NzcVM6Y1+s1Pnz4YBokz3Os12vz+fv37/H582dzrfV6be2VlQFt7ntSqTGBhgRn/oScrdaJNhqS1nzV7NB1Jcr3mRyD4Mw+y7JSQMux0faMnK4xuSxTde/BYGDk1JSh0zaRE+v1uvTMdFePRiP0+/3S+/S29ft9XF5eWm5aaaAfE20TuYzdkfJz20+OX+7iOYWo+raJnJCJowjpMfQ8z0xQWN+mYyDOmsizLLM6q8w6xc9lINhisYDv+1itVnj//n0lGc9mM7O+DsCslRfFNqXndDrFhw8fSm516TanwpCz9OFwaM0467ba2mhIVzHRqpedXj4rlSkDD6Xc+T5fN6X02iRyGdFMZFlmFBiVg5SnDPg5Ntomcm53Izgjms/nuLu7MzMmet7m8/neZDWuMd6U/IB2Z+Tr9dqQju/78DzPbOsCdh5IGjee52E8Hjdezyq0TeTr9doEKdKTI/s+x4KU53q9LuUzaQJnTeQSy+XSzPJcoVM5mhsLxZgkCd6/f286DIPSrIp6niFlGewWhiFub2/N/SQ50V0vE8/EcVxaT64LbTWk7/vIssxaOgiCALe3twB2xOO668IwxMXFBeI4trwU/F5T9W97Rk6kaWr6kfTgANtZ+1//+lcA23bO87yRYJZTIHJgu5ed43M2mxmCp3IPggA3NzcAdoGvNB593zdjn4bRarV6Va51WRdg2+dJNkVRWF5MLk+eAtomcmDbn6TRNxqNrNl4nueG7AFYeT2axFkTOdfC5aAkSdNKyrIMvu8bAqbbyPM89Ho9eJ5nXG8kW7rlmE6R/9Pal3lugyDAcDi0jAO6S8fjsTEM3G1xdSdsaXNGzr+SzN0ZJJWoTIlbtYcbeD1r5JwFLRYL8/zcP+seyiONyabQNpEDsGQgFSiTqkRRhNVqhcvLy1IyJ/5+PB6XYjmawCkQuYzPkd5JCZIODci//OUvjUY970PbRC69vWEYmuVYGdQG7DyNhMy21hTOmsiJqkHq+34pKIh5j/kbt5NIcmXDyAQOvL5cT+d1JaRr2Pf9SgVcN1m1tUZOSFlPp1NcXV1ZVmnVWjk7vBuh3SRhtUnkbryEnA0xlS+w7TrwibQAAAdOSURBVE98f7VaNWbtt03kRVGUCGW9XiNJEsurNR6PjdEdRZF5zfpL7xtQPh/hmPUH2iVyGoubzcboNC5DuOmmATvTZdtom8iBbZ9hICVn3u4JY5TXbDYzE5am06SePZHLdXAApST7HMzs0Fyf5T5OGfgSRZGJTAdsy96dWcojQ6uOUJUzTwpVRmzXrYzbakh3vV/OIAF7zydlGEWR8ZhwXV3KvclB0LZrXe5giOMYV1dXlkFJ1954PDbGUlPpd9smciLLssrlFxJzVWAlX3NnCmAHub0G1zr1jYxIlzt5gJ3xyD61XC6tXThtom0id2XgeV7Jo3N/f28yg7KObcju7IlcsUVbDZllWYlYfN/HcDi0jBXOoFyLXx77CmyJv8k88W0TeRiG5l4M0pSKgEq41+tZrr4m9vmeApHLLabsF9LQo8zoYgfsZBiXl5emH0pDsgm0TeSAneiIdbm8vDQTkaIoMBgMzPLh9fU1PM+zcmG0hbaJHIDlxSiKokTklCewHbeuvJuCEvkLQZtr5FSc9/f3JrKYyv7+/t46972KBDjrlMTv5r0/FtokcnnkLQONqCiWy6WVpUlGYze1ftk2kcs+wP4h4zD6/X7l1jQaQqxrURSG5Bks2ATaJnI3y5f0UvB/njkhMRgMTuKY1baJnGORxiLv6/u+WT6N49gQuayXJoRRPAttNeS+2U2/369cFwfsbWry9/z+awl2k4q1ar2SrmBJnlQuTSw/tE3k8r6yT8j0ydK9vlgsTExLlmXWtiDAztLVVGY81r0NIueShOzLMn+G28fDMDSuYnWtb1G1g0lCehjDMKxM4tQElMhfCNpoSHkP7tEH7L31wC5egDsFGPXPKFlatrxeo3mCWyRyPjPzEsjdD5RlGIa4urqy5NnUMaunQOQyxoLbN4HdThLP80x/kpBkz8yBcsmmieWbtomckIGog8HA2kIrPUCE3KrbJk6ByOWY5B771WplBbrJ3VBAs/qLUCJ/IWirIZfL5aPrtezU7PgMKORvgfLs0nWzHxNtr5HLSFcZjFWl9MMwtOR4bLRN5FX9gH2FfacqWFWuY1albpXJh46JUyByKZ9Pnz5Zn3GZgnvyGVDYZIzKY2ibyOM4fjS/f9UYlOdPNAkl8heCNhrSHfBUslJ5SpJP09T8hrNKl8TTNG1sfRxol8ijKCpt0cvz3GxvpCfD3ZfalNuzbSIH7FgBQmYqk3AVK+U0mUyQJEkpjeaxcQpEzvHGxE3A1pCRY6zqGN9TQNtEDtgJYRaLhemL8n1ud5QGZNP51pXIXwjabEhgR9jyKFmCAXASy+XSUiDy+00OgrZn5BLuerAkbGYjC8PwVRG57AtV5PP7778DsPdLAzAnFu4jpqai/oH2iJwykoa16/alQb1cLitzZrSJUyBy1+hzz5aQwZdxHCOO40YnIrJeSuQvAG00pJuIRybbAVAZyMaDUQjpapdKpimyapPImQOBqTJlIiG+ltvT3N8eG20TuewDMvJabmUE7GN0ZapbmehJft6UkmubyAFYwX3uLhOOWzfauo3MZFVom8hpHDKArSpzIGDLkXVr+tAZJfIzhpydsSGB5rMKnTMGg4EhyzZm4ecCyicMw1I0uGI/5LHIhMyyptgPeVaGXCJQ7ODudqGcmsz1rkReE+jeYcdXIn8a5vM5bm9vkee5lQseaP7Qg1OEG9TDaF15UJDicWRZhiiKcHd3h+l02vgxveeMTqeDxWJRObs9hX3ubcPNHFqV4bAJKJEfCPekHXnGN7fqaNlfgPKxhFS8AFqvX9sF2AXkSW+FzAevZX+R6/DucgQJXcv+whPtqOOk8cjA0NdciOVyiTiOTTY+3/ebzY7Z2J1eKGRjTqdT41rR2eTTIU8uclOBKuzUuYB9gIvi6ZA533UZ52mQ8SsuTiFhTdsIw9D0KSZAasMbq9qgBkirnxaZuj2fhtVqhZ9++glxHJeimJXMyzJYrVaI4xg//fRTI1HfLwHMYvj+/XsTzdx0INS5gjE/8sCcJk//OwdIWUhjsckYDCXymsCZuTwPnclDtDzumnJTfXJJwvf91uvXdqEMSOjuaWNt1+/Ui4x0ll4MRkG3Xb9TLzLYjfpMGpBt16/tAmyXGLjLQPaxRo+CbuxOLxTs1JvNBkVRYDQaaaDbN2I8Hhsrlqk8FTayLLO2D47H45ZrdF6I49jIzN2iqdiPu7s7ayuclJnKzw5qYypneRx0U1AirwGua8XzPCs3t5b9hTm6WW5vb00O+LbrdiqFsqBs9slOy/7S6/Ws/3V8Pr3c3d3B83b9bTwew/O2x6y2Xbe2i9RTlBOh+8gVCoVCoVA8CUrkCoVCoVCcMZTIFQqFQqE4YyiRKxQKhUJxxlAiVygUCoXijKFErlAoFArFGUOJXKFQKBSKM4YSuUKhUCgUZwwlcoVCoVAozhhK5AqFQqFQnDGUyBUKhUKhOGMokSsUCoVCccZQIlcoFAqF4oyhRK5QKBQKxRnjf7kaN8J8i5DZAAAAAElFTkSuQmCC)\n",
        "\n",
        "Si tenemos dos listas que ya hemos inicializado con 5 elementos cada una. En una se almacenan los nombres de personas en la otra las edades de dichas personas.\n",
        "Decimos que la lista nombres es paralela a la lista edades si en la componente 0 de cada lista se almacena información relacionada a una persona (Juan - 12 años)\n",
        "Es decir hay una relación entre cada componente de las dos listas.\n",
        "\n",
        "Esta relación la conoce únicamente el programador y se hace para facilitar el desarrollo de algoritmos que procesen los datos almacenados en las estructuras de datos.\n",
        "\n",
        "**Problema 8:** \n",
        "\n",
        "Desarrollar un programa que permita cargar 5 nombres de personas y sus edades respectivas. Luego de realizar la carga por teclado de todos los datos imprimir los nombres de las personas mayores de edad (mayores o iguales a 18 años)\n"
      ]
    },
    {
      "cell_type": "code",
      "metadata": {
        "id": "epej9jgIt8_P"
      },
      "source": [
        "nombres=[]\n",
        "edades=[]\n",
        "for x in range(5):\n",
        "    nom=input(\"Ingrese el nombre de la persona:\")\n",
        "    nombres.append(nom)\n",
        "    ed=int(input(\"Ingrese la edad de dicha persona:\"))\n",
        "    edades.append(ed)\n",
        "\n",
        "print(\"Nombre de las personas mayores de edad:\")\n",
        "for x in range(5):\n",
        "    if edades[x]>=18:\n",
        "        print(nombres[x])"
      ],
      "execution_count": null,
      "outputs": []
    },
    {
      "cell_type": "markdown",
      "metadata": {
        "id": "OMtWzG46ucAQ"
      },
      "source": [
        "# **Problemas propuestos**\n",
        "\n",
        "1. Crear y cargar dos listas con los nombres de 5 productos en una y sus respectivos precios en otra. Definir dos listas paralelas. Mostrar cuantos productos tienen un precio mayor al primer producto ingresado.\n",
        "\n",
        "2. En un curso de 4 alumnos se registraron las notas de sus exámenes y se deben procesar de acuerdo a lo siguiente:\n",
        "\n",
        "a) Ingresar nombre y nota de cada alumno (almacenar los datos en dos listas paralelas)\n",
        "\n",
        "b) Realizar un listado que muestre los nombres, notas y condición del alumno. En la condición, colocar \"Muy Bueno\" si la nota es mayor o igual a 8, \"Bueno\" si la nota está entre 4 y 7, y colocar \"Insuficiente\" si la nota es inferior a 4.\n",
        "\n",
        "c) Imprimir cuantos alumnos tienen la leyenda “Muy Bueno”.\n",
        "\n",
        "3. Realizar un programa que pida la carga de dos listas numéricas enteras de 4 elementos cada una. Generar una tercer lista que surja de la suma de los elementos de la misma posición de cada lista. Mostrar esta tercer lista. "
      ]
    },
    {
      "cell_type": "markdown",
      "metadata": {
        "id": "1SWqDBae2GGx"
      },
      "source": [
        "# **Listas: ordenamiento de sus elementos**"
      ]
    },
    {
      "cell_type": "markdown",
      "metadata": {
        "id": "eF_rnJw32Iuo"
      },
      "source": [
        "Otro algoritmo muy común que debe conocer y entender un programador es el ordenamiento de una lista de datos.\n",
        "\n",
        "El ordenamiento de una lista se logra intercambiando las componentes de manera que:\n",
        "lista[0] <= lista[1] <= lista[2] etc.\n",
        "\n",
        "El contenido de la componente lista[0] sea menor o igual al contenido de la componente lista[1] y así sucesivamente.\n",
        "Si se cumple lo dicho anteriormente decimos que la lista está ordenado de menor a mayor. Igualmente podemos ordenar una lista de mayor a menor.\n",
        "\n",
        "Tengamos en cuenta que la estructura de datos lista en Python es mutable, eso significa que podemos modificar sus elementos por otros.\n",
        "\n",
        "Se puede ordenar tanto listas con componentes de tipo int, float como cadena de caracteres. En este último caso el ordenamiento es alfabético.\n",
        "\n",
        "**Problema 9:** \n",
        "\n",
        "Se debe crear y cargar una lista donde almacenar 5 sueldos. Desplazar el valor mayor de la lista a la última posición.\n",
        "\n",
        "La primera aproximación para llegar en el próximo problema al ordenamiento completo de una lista tiene por objetivo analizar los intercambios de elementos dentro de la lista y dejar el mayor en la última posición.\n",
        "\n",
        "El algoritmo consiste en comparar si la primera componente es mayor a la segunda, en caso que la condición sea verdadera, intercambiamos los contenidos de las componentes.\n",
        "\n",
        "Vamos a suponer que se ingresan los siguientes valores por teclado:\n",
        "\n",
        "1200\n",
        "\n",
        "750\n",
        "\n",
        "820\n",
        "\n",
        "550\n",
        "\n",
        "490\n",
        "\n",
        "En este ejemplo: ¿es 1200 mayor a 750? La respuesta es verdadera, por lo tanto intercambiamos el contenido de la componente 0 con el de la componente 1.\n",
        "\n",
        "Luego comparamos el contenido de la componente 1 con el de la componente 2: ¿Es 1200 mayor a 820?\n",
        "La respuesta es verdadera entonces intercambiamos.\n",
        "Si hay 5 componentes hay que hacer 4 comparaciones, por eso el for se repite 4 veces.\n",
        "\n",
        "Generalizando: si la lista tiene N componentes hay que hacer N-1 comparaciones.\n",
        "\n",
        "![imagen.png](data:image/png;base64,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)\n",
        "\n",
        "Podemos ver cómo el valor más grande de la lista desciende a la última componente. Empleamos una variable auxiliar (aux) para el proceso de intercambio:"
      ]
    },
    {
      "cell_type": "code",
      "metadata": {
        "id": "bfFaYCZMuNDT"
      },
      "source": [
        "sueldos=[]\n",
        "for x in range(5):\n",
        "    valor=int(input(\"Ingrese sueldo:\"))\n",
        "    sueldos.append(valor)\n",
        "\n",
        "print(\"Lista sin ordenar\")\n",
        "print(sueldos)\n",
        "\n",
        "for x in range(4):\n",
        "    if sueldos[x]>sueldos[x+1]:\n",
        "        aux=sueldos[x]\n",
        "        sueldos[x]=sueldos[x+1]\n",
        "        sueldos[x+1]=aux\n",
        "\n",
        "print(\"Lista con el último elemento ordenado\")\n",
        "print(sueldos)"
      ],
      "execution_count": null,
      "outputs": []
    },
    {
      "cell_type": "code",
      "metadata": {
        "id": "-sF7iJqNumv3"
      },
      "source": [
        ""
      ],
      "execution_count": null,
      "outputs": []
    }
  ]
}