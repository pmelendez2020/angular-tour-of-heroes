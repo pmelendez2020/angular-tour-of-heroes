{
  "nbformat": 4,
  "nbformat_minor": 0,
  "metadata": {
    "colab": {
      "name": "pythonFunciones.ipynb",
      "provenance": [],
      "authorship_tag": "ABX9TyPgCYt+5rJVs6lsRYMxh7lf",
      "include_colab_link": true
    },
    "kernelspec": {
      "name": "python3",
      "display_name": "Python 3"
    }
  },
  "cells": [
    {
      "cell_type": "markdown",
      "metadata": {
        "id": "view-in-github",
        "colab_type": "text"
      },
      "source": [
        "<a href=\"https://colab.research.google.com/github/pmelendez2020/angular-tour-of-heroes/blob/master/pythonFunciones.ipynb\" target=\"_parent\"><img src=\"https://colab.research.google.com/assets/colab-badge.svg\" alt=\"Open In Colab\"/></a>"
      ]
    },
    {
      "cell_type": "code",
      "metadata": {
        "id": "91IFuU2vMo6G",
        "outputId": "481af595-9f48-41c9-86cf-b454bfae81c3",
        "colab": {
          "base_uri": "https://localhost:8080/"
        }
      },
      "source": [
        "def hola(saludo):\n",
        "    print (\"buen día \", saludo, \" Exitos hoy y siempre...\")\n",
        "\n",
        "hola(\"Pedro\")\n",
        "hola(\"Ana\")\n",
        "hola(\"Carolina\")"
      ],
      "execution_count": null,
      "outputs": [
        {
          "output_type": "stream",
          "text": [
            "buen día  Pedro  Exitos hoy y siempre...\n",
            "buen día  Ana  Exitos hoy y siempre...\n",
            "buen día  Carolina  Exitos hoy y siempre...\n"
          ],
          "name": "stdout"
        }
      ]
    },
    {
      "cell_type": "code",
      "metadata": {
        "id": "2rCNkR_zaBNV",
        "outputId": "544fbefe-1d36-4c7c-a227-c88c037f576f",
        "colab": {
          "base_uri": "https://localhost:8080/"
        }
      },
      "source": [
        "def sumar(num1, num2):\n",
        "    resu = num1 + num2\n",
        "    return resu\n",
        "\n",
        "suma = sumar(3,4)\n",
        "print(suma)"
      ],
      "execution_count": null,
      "outputs": [
        {
          "output_type": "stream",
          "text": [
            "7\n"
          ],
          "name": "stdout"
        }
      ]
    },
    {
      "cell_type": "code",
      "metadata": {
        "id": "i-E_Ox8Jad2O"
      },
      "source": [
        "def sumar(num1, num2):\n",
        "    resu = num1 + num2\n",
        "    return resu\n",
        "\n",
        "def restar(num1, num2):\n",
        "    resu = num1 - num2\n",
        "    return resu\n",
        "\n",
        "def multi(num1, num2):\n",
        "    resu = num1 * num2\n",
        "    return resu\n",
        "\n",
        "def divi(num1, num2):\n",
        "    if num2 != 0:\n",
        "      resu = num1 / num2\n",
        "    else:\n",
        "      resu = \"num2 no puede ser 0\"\n",
        "    return resu\n",
        "\n",
        "\n",
        "n1 = float(input(\"n1= \"))\n",
        "n2 = float(input(\"n2= \"))\n",
        "\n",
        "suma = sumar(n1,n2)\n",
        "print(n1,\" + \",n2,\" es \", suma)\n",
        "\n",
        "resta = restar(n1,n2)\n",
        "print(n1,\" - \",n2,\" es \", resta)\n",
        "\n",
        "multiplicacion = multi(n1,n2)\n",
        "print(n1,\" * \",n2,\" es \", multiplicacion)\n",
        "\n",
        "division = divi(n1,n2)\n",
        "print(n1,\" / \",n2,\" es \", division)\n",
        "\n",
        "\n"
      ],
      "execution_count": null,
      "outputs": []
    },
    {
      "cell_type": "markdown",
      "metadata": {
        "id": "F5qoACtDfTWx"
      },
      "source": [
        "1. diseñe un algoritmo que pregunte 2 números y que operacion se quiere desarrollar.\n",
        "mostrar los números leidos, la operacion que se realizo y el resultado de la operación.\n",
        "\n",
        "2. diseñe un algoritmo que a través de una función reciba una lista y sume los elementos de la lista y retorne el resultado\n",
        "\n",
        "3. diseñe un algoritmo que a través de una función reciba dos listas y en la función se cree una lista con la suma elemento a elemento de las listas recibidas y retorne la lista resultado. \n"
      ]
    },
    {
      "cell_type": "code",
      "metadata": {
        "id": "A1o6q-siGHMv"
      },
      "source": [
        "def sumarlista(lista):\n",
        "  for i in lista:\n",
        "    print(lista[i-1])\n",
        "\n",
        "sumarlista([1,2,3,4,5])"
      ],
      "execution_count": null,
      "outputs": []
    },
    {
      "cell_type": "code",
      "metadata": {
        "id": "tgyT-kgFG3u8"
      },
      "source": [
        "def sumarlista(lista):\n",
        "  for i in lista:\n",
        "    print(lista[i-1])\n",
        "\n",
        "milista = [1,2,3,4,5]\n",
        "sumarlista(milista)"
      ],
      "execution_count": null,
      "outputs": []
    },
    {
      "cell_type": "code",
      "metadata": {
        "id": "ejUCzFyoHALJ"
      },
      "source": [
        "def sumarlista(lista):\n",
        "  for i in lista:\n",
        "    print(lista[i-1])\n",
        "\n",
        "milista=[]\n",
        "\n",
        "for i in range(5):\n",
        "    valor=int(input(\"Ingrese valor:\"))\n",
        "    milista.append(valor)\n",
        "\n",
        "sumarlista(milista)"
      ],
      "execution_count": null,
      "outputs": []
    },
    {
      "cell_type": "code",
      "metadata": {
        "id": "KdFskSX1G5FI"
      },
      "source": [
        ""
      ],
      "execution_count": null,
      "outputs": []
    },
    {
      "cell_type": "markdown",
      "metadata": {
        "id": "8hLabSjefof4"
      },
      "source": [
        ""
      ]
    }
  ]
}