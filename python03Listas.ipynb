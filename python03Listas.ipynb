{
  "nbformat": 4,
  "nbformat_minor": 0,
  "metadata": {
    "colab": {
      "name": "python03Listas.ipynb",
      "provenance": [],
      "authorship_tag": "ABX9TyMyDNfLY+60RvSwxfIVPVr8",
      "include_colab_link": true
    },
    "kernelspec": {
      "name": "python3",
      "display_name": "Python 3"
    }
  },
  "cells": [
    {
      "cell_type": "markdown",
      "metadata": {
        "id": "view-in-github",
        "colab_type": "text"
      },
      "source": [
        "<a href=\"https://colab.research.google.com/github/pmelendez2020/angular-tour-of-heroes/blob/master/python03Listas.ipynb\" target=\"_parent\"><img src=\"https://colab.research.google.com/assets/colab-badge.svg\" alt=\"Open In Colab\"/></a>"
      ]
    },
    {
      "cell_type": "code",
      "metadata": {
        "id": "q_QF5X4z4vt1"
      },
      "source": [
        "Listas"
      ],
      "execution_count": null,
      "outputs": []
    },
    {
      "cell_type": "markdown",
      "metadata": {
        "id": "YYMPzE3145Q6"
      },
      "source": [
        "# **Listas**"
      ]
    },
    {
      "cell_type": "markdown",
      "metadata": {
        "id": "LheBJ4d647U_"
      },
      "source": [
        "L.append(object)\n",
        "\n",
        "Añade un objeto al final de la lista.\n",
        "\n",
        "L.count(value)\n",
        "\n",
        "Devuelve el número de veces que se encontró value en la lista.\n",
        "\n",
        "L.extend(iterable)\n",
        "\n",
        "Añade los elementos del iterable a la lista.\n",
        "\n",
        "L.index(value[, start[, stop]])\n",
        "\n",
        "Devuelve la posición en la que se encontró la primera ocurrencia de value. Si se especifican, start y stop definen las posiciones de inicio y fin de una sublista en la que buscar.\n",
        "\n",
        "L.insert(index, object)\n",
        "\n",
        "Inserta el objeto object en la posición index.\n",
        "\n",
        "L.pop([index])\n",
        "\n",
        "Devuelve el valor en la posición index y lo elimina de la lista. Si no se especifica la posición, se utiliza el último elemento de la lista.\n",
        "\n",
        "L.remove(value)\n",
        "\n",
        "Eliminar la primera ocurrencia de value en la lista.\n",
        "\n",
        "L.reverse()\n",
        "\n",
        "Invierte la lista. Esta función trabaja sobre la propia lista desde la que se invoca el método, no sobre una copia.\n",
        "\n",
        "L.sort(cmp=None, key=None, reverse=False)\n",
        "\n",
        "Ordena la lista. Si se especifica cmp, este debe ser una función que tome como parámetro dos valores x e y de la lista y devuelva -1 si x es menor que y, 0 si son iguales y 1 si x es mayor que y.\n",
        "\n",
        "El parámetro reverse es un booleano que indica si se debe ordenar la lista de forma inversa, lo que sería equivalente a llamar primero a L.sort() y después a L.reverse().\n",
        "\n",
        "Por último, si se especifica, el parámetro key debe ser una función que tome un elemento de la lista y devuelva una clave a utilizar a la hora de comparar, en lugar del elemento en si.\n",
        "\n"
      ]
    },
    {
      "cell_type": "code",
      "metadata": {
        "id": "30MEYEA8FoTt"
      },
      "source": [
        "dato = 10\n",
        "print(\"parametro\")\n",
        "dato = input()\n",
        "dato = input(\"mensaje\")"
      ],
      "execution_count": null,
      "outputs": []
    },
    {
      "cell_type": "code",
      "metadata": {
        "id": "vvpmbpyBI7wC",
        "outputId": "d69c3fc9-fe00-4bf5-96c8-8a5a706bb6cc",
        "colab": {
          "base_uri": "https://localhost:8080/"
        }
      },
      "source": [
        "lista = [3,4,7,6,5,2,1]\n",
        "\n",
        "#3 in lista\n",
        "\n",
        "#3 not in lista\n",
        "\n",
        "if 3 in lista:\n",
        "  lista.remove(3)\n",
        "\n",
        "print(lista) \n",
        "\n"
      ],
      "execution_count": null,
      "outputs": [
        {
          "output_type": "stream",
          "text": [
            "[4, 7, 3, 5, 2, 1]\n"
          ],
          "name": "stdout"
        }
      ]
    },
    {
      "cell_type": "markdown",
      "metadata": {
        "id": "hUtzME1S5ueS"
      },
      "source": [
        ""
      ]
    }
  ]
}